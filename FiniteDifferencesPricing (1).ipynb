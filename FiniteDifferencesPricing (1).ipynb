{
  "metadata": {
    "kernelspec": {
      "name": "python",
      "display_name": "Pyolite",
      "language": "python"
    },
    "language_info": {
      "codemirror_mode": {
        "name": "python",
        "version": 3
      },
      "file_extension": ".py",
      "mimetype": "text/x-python",
      "name": "python",
      "nbconvert_exporter": "python",
      "pygments_lexer": "ipython3",
      "version": "3.8"
    }
  },
  "nbformat_minor": 5,
  "nbformat": 4,
  "cells": [
    {
      "cell_type": "code",
      "source": "import numpy as np\nimport pandas as pd\nimport math",
      "metadata": {
        "collapsed": true,
        "jupyter": {
          "outputs_hidden": true
        },
        "tags": [],
        "trusted": true
      },
      "execution_count": 1,
      "outputs": [
        {
          "name": "stderr",
          "text": "/lib/python3.9/site-packages/pandas/compat/__init__.py:124: UserWarning: Could not import the lzma module. Your installed Python is incomplete. Attempting to use lzma compression will result in a RuntimeError.\n  warnings.warn(msg)\n",
          "output_type": "stream"
        }
      ],
      "id": "fff02fd2"
    },
    {
      "cell_type": "markdown",
      "source": "#### Compute the associated matrices and coefficients \nPlease refer to the document for the detail of the computations. The ReadMe is essential to understand the method. Here is a small summary of comments / techniques used to ease the computations : \n* matrices filling : to fill the upper and lower diagonals of a squared matrix $N \\in \\mathcal{M}_n(\\mathbb{R})$, we decompose it to a squared matrix of size $(n-1,n-1)$, and fill the diagonal : \n    * $N_{bis} = (N_{ij})_{2\\leq i \\leq n,1\\leq j \\leq n-1}$ for the lower diagonal \n    * $N_{bis} = (N_{ij})_{1\\leq i \\leq n-1,2\\leq j \\leq n}$ for the upper diagonal \n* use a loop to solve the system : strangely, recursive method is not working\n* for coefficients except $0$ and $N$, we use whatever number between as the coefficient remains the same\n* it remains to do weighting by exponential interpolation for even sizes (odd steps numbers) ",
      "metadata": {},
      "id": "8ee6e511"
    },
    {
      "cell_type": "code",
      "source": "def matrices(r,sigma,T,nb_steps_time,N,theta,delta,X_N):\n    \n    def coeffs(r,sigma,T,nb_steps_time,N,i,theta,delta):\n        alpha,beta,gamma = -0.5*sigma**2,0.5*(sigma**2)-r,r\n        dx,dt=10*sigma*math.sqrt(T)/N,T/nb_steps_time\n        if i!=0 and i!=N:\n            omega = theta*dt*(2*alpha/dx**2 -gamma)-1\n            a = (1-theta)*dt*(-2*alpha/dx**2+gamma)-1\n            b=theta*dt*(alpha/dx**2-beta/(2*dx))\n            c =theta*dt*(alpha/dx**2+beta/(2*dx))\n            d=(1-theta)*dt*(alpha/dx**2+beta/(2*dx))\n            e=(1-theta)*dt*(alpha/dx**2-beta/(2*dx))    \n        if i==0 :\n            omega=-theta*dt*(alpha/dx**2-beta/dx+gamma)-1\n            a=(1-theta)*dt*(alpha/dx**2-beta/dx+gamma)-1\n            b=theta*dt*(beta/dx-2*alpha/dx**2)\n            c=(1-theta)*dt*(beta/dx-2*alpha/dx**2)\n            d=theta*dt*alpha/dx**2\n            e=(1-theta)*dt*alpha/dx**2\n        if i==N :\n            omega=-theta*dt*(alpha/dx**2+beta/dx+gamma)-1\n            a=(1-theta)*dt*(alpha/dx**2+beta/dx+gamma)-1\n            b=-theta*dt*(2*alpha/dx**2+beta/dx)\n            c=-(1-theta)*dt*(2*alpha/dx**2+beta/dx)\n            d=theta*dt*alpha/dx**2\n            e=(1-theta)*dt*alpha/dx**2\n        return(omega,a,b,c,d,e)\n    \n    def A_prime(r,sigma,T,nb_steps_time,N,theta,delta):\n        A_p = np.zeros((N+1,N+1))\n\n        diag_low_first = [coeffs(r, sigma, T,nb_steps_time, N, 1, theta, delta)[5] for i in range(1,N)]\n        diag_low=np.append(diag_low_first,[coeffs(r, sigma, T,nb_steps_time, N, 0, theta, delta)[3]])\n\n        diag_first = [coeffs(r, sigma, T, nb_steps_time,N, 1, theta, delta)[1] for i in range(N)]\n        diag_first[0]=coeffs(r, sigma, T,nb_steps_time, N, N, theta, delta)[5]\n        diag=np.append(diag_first,[coeffs(r, sigma, T,nb_steps_time, N, 0, theta, delta)[5]])\n\n        diag_up = [coeffs(r, sigma, T,nb_steps_time, N, 5, theta, delta)[4] for i in range(N)]\n        diag_up[0]=coeffs(r, sigma, T, nb_steps_time,N, N, theta, delta)[3]\n\n        np.fill_diagonal(A_p[1:,:-1],diag_low)\n        np.fill_diagonal(A_p,diag)\n        np.fill_diagonal(A_p[:-1,1:],diag_up)\n\n        A_p[0,2]=coeffs(r, sigma, T,nb_steps_time, N, N, theta, delta)[1]\n        A_p[N,-3]=coeffs(r, sigma, T,nb_steps_time, N, 0, theta, delta)[1]\n\n        return A_p\n    def A_pp(r,sigma,T,nb_steps_time,N,theta,delta):\n        A_2p = np.zeros((N+1,N+1))\n        diag_low = [coeffs(r, sigma, T, nb_steps_time,N, 1, theta, delta)[2] for i in range(N)] \n        diag_low[-1]=coeffs(r, sigma, T,nb_steps_time, N, 0, theta, delta)[2]\n\n        diag_first=[0 for i in range(N)]\n        diag=np.append(diag_first,[coeffs(r, sigma, T,nb_steps_time, N, 0, theta, delta)[4]])\n        diag[0]=coeffs(r, sigma, T, nb_steps_time,N, N, theta, delta)[4]\n\n        diag_up = [coeffs(r, sigma, T,nb_steps_time, N, 1, theta, delta)[3] for i in range(N)]\n        diag_up[0]=coeffs(r, sigma, T,nb_steps_time, N, N, theta, delta)[2]\n\n        np.fill_diagonal(A_2p[1:,:-1],diag_low)\n        np.fill_diagonal(A_2p,diag)\n        np.fill_diagonal(A_2p[:-1,1:],diag_up)\n\n        return A_2p\n    def Omega(r,sigma,T,nb_steps_time,N,theta,delta):\n        L_om= np.full(N+1,coeffs(r, sigma, T, nb_steps_time,N, 1, theta, delta)[0]) \n        Om = np.diag(L_om)\n        Om[0,0] = coeffs(r, sigma, T,nb_steps_time, N, N, theta, delta)[0]\n        Om[N,N] = coeffs(r, sigma, T,nb_steps_time, N, 0, theta, delta)[0]\n        return Om\n    \n    def system(r,sigma,T,nb_steps_time,N,theta,delta):\n        A_p = A_prime(r,sigma,T,nb_steps_time,N,theta,delta)\n        A_pprime = A_pp(r,sigma,T,nb_steps_time,N,theta,delta)\n        om=Omega(r,sigma,T,nb_steps_time,N,theta,delta)\n        A=np.dot(np.linalg.inv(om-A_pprime),A_p)\n        b=np.transpose([delta*T/nb_steps_time for i in range(N+1)])\n        b=np.dot(np.linalg.inv(om-A_pprime),b)\n        return A,b\n    \n    def solve_system(A,b,X,nb_steps_time):\n        for i in range(nb_steps_time):\n            X=np.dot(A,X)+b\n        return X\n\n    A,b=system(r,sigma,T,nb_steps_time,N,theta,delta)\n    return solve_system(A,b,X_N,nb_steps_time)[int((np.shape(solve_system(A,b,X_N,nb_steps_time))[0]-1)/2)] ",
      "metadata": {
        "trusted": true
      },
      "execution_count": 2,
      "outputs": [],
      "id": "9c942180"
    },
    {
      "cell_type": "markdown",
      "source": "#### Define the class ``option`` with option parameters",
      "metadata": {},
      "id": "09a50edd-6375-4a1b-8c11-6d20b54c4522"
    },
    {
      "cell_type": "code",
      "source": "class option():\n    def __init__(self,N,sigma,r,T,nb_steps_time,delta,theta,S0,K,payoff_obj):\n        self.strike = K\n        self.maturity = T\n        self.N=N\n        self.vol = sigma\n        self.interest_rate = r\n        self.steps_time = nb_steps_time\n        self.delta = delta\n        self.theta=theta\n        self.S0 = S0\n        self.payoff = payoff_obj.payoff\n        \n        price = matrices(self.interest_rate,self.vol,self.maturity,self.steps_time,self.N,self.theta,self.delta,self.payoff)\n        self.price=price",
      "metadata": {
        "trusted": true
      },
      "execution_count": 14,
      "outputs": [],
      "id": "7b86d217"
    },
    {
      "cell_type": "markdown",
      "source": "## Define a payoff class : the one below is a test one (can be used as a modele by the user) for a European Call Option\nUser shall create a class with an attribute \"payoff\" , which is a vector of payoff values. Item should then be passed as an argument\n",
      "metadata": {},
      "id": "38ebac55-f41b-4c19-bcca-b384ab36711b"
    },
    {
      "cell_type": "code",
      "source": "class option_test():\n    def __init__(self,S0,sigma,T,N):\n        dx = 10*sigma*math.sqrt(T)/N\n        Smin=np.log(100)-5*sigma*np.sqrt(T)\n        self.payoff = np.array([max(math.exp(Smin+i*dx)-K,0) for i in range(N+1)])",
      "metadata": {},
      "execution_count": null,
      "outputs": [],
      "id": "8b15f42f-0f60-4898-a23d-6cb8d9e0755e"
    },
    {
      "cell_type": "markdown",
      "source": "#### We can test our pricing. \nAs a reminder, $\\theta$ is used to determine the balance between speed and consistency, lies between $0$ and $1$.\n<br> As mentioned in the comments in the begining, it remains to interpolate for odd numbers of steps.",
      "metadata": {},
      "id": "9c9671eb-fa87-442b-8dee-020aff4a2b66"
    },
    {
      "cell_type": "code",
      "source": "N=200\nsigma=0.1\nS0=100\nr=0.02\nT=2\nK=95\nnb_steps_time = 365\ndelta=0\ntheta = 0.6\n\ntest_payoff = option_test(S0,sigma,T,N)\ntest_option=option(N,sigma,r,T,nb_steps_time,delta,theta,S0,K,test_payoff)\n\nprint(\"The price of the option is\",test_option.price)",
      "metadata": {
        "trusted": true
      },
      "execution_count": 20,
      "outputs": [
        {
          "name": "stdout",
          "text": "The price of the option is 10.83620216352037\n",
          "output_type": "stream"
        }
      ],
      "id": "f4a33304-4c11-4a0e-8f3b-cd3f64804ba1"
    }
  ]
}